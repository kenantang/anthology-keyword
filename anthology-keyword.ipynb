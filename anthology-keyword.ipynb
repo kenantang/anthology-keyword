{
 "cells": [
  {
   "cell_type": "code",
   "execution_count": 1,
   "id": "4394a664-cd89-4881-9869-fd49e2df5236",
   "metadata": {},
   "outputs": [],
   "source": [
    "import requests\n",
    "from bs4 import BeautifulSoup\n",
    "from selenium import webdriver\n",
    "from selenium.webdriver.chrome.options import Options\n",
    "from selenium.webdriver.common.by import By\n",
    "from time import sleep, time\n",
    "from random import uniform"
   ]
  },
  {
   "cell_type": "code",
   "execution_count": 2,
   "id": "f362159e-5d47-477e-8c41-e2a46c82d012",
   "metadata": {},
   "outputs": [
    {
     "name": "stdout",
     "output_type": "stream",
     "text": [
      "subreddit 31 (15.06 seconds)\n",
      "wikipedia 1900 (11.40 seconds)\n",
      "subreddit moderation 2 (11.17 seconds)\n"
     ]
    }
   ],
   "source": [
    "chrome_options = Options()\n",
    "chrome_options.add_argument(\"--headless\")\n",
    "driver = webdriver.Chrome(options=chrome_options)\n",
    "\n",
    "keywords = ['subreddit', 'wikipedia', 'subreddit moderation']\n",
    "\n",
    "# the returned number is unstable, need multiple clicks\n",
    "clicks = 5\n",
    "\n",
    "# the wait time needs to be randomized so the scraper is not identified as a bot\n",
    "# the range is uniformly sampled between [a, b] seconds\n",
    "# the time also needs to be large enough so the search results could be returned\n",
    "a = 0.8\n",
    "b = 1.2\n",
    "\n",
    "# with the current parameters, about 20 seconds per keyword\n",
    "for keyword in keywords:\n",
    "    \n",
    "    start = time()\n",
    "\n",
    "    url = f\"https://aclanthology.org/search/?q={keyword.replace(' ', '+')}\"\n",
    "\n",
    "    # start the driver\n",
    "    driver.get(url)\n",
    "    \n",
    "    nums = []\n",
    "\n",
    "    # switch between the options multiple times\n",
    "    for _ in range(clicks):\n",
    "        \n",
    "        # expand the dropdown menu\n",
    "        buttons = driver.find_elements(by=By.CLASS_NAME, value=\"gsc-selected-option-container\")\n",
    "        buttons[0].click()\n",
    "    \n",
    "        # choose year of publication\n",
    "        buttons =  driver.find_elements(by=By.CLASS_NAME, value=\"gsc-option-menu-item\")\n",
    "        buttons[1].click()\n",
    "\n",
    "        # some time is needed for the result to change\n",
    "        sleep(uniform(a,b))\n",
    "\n",
    "        soup = BeautifulSoup(driver.page_source, \"html.parser\")\n",
    "\n",
    "        # result in the format \"About 31 results (0.11 seconds)\"\n",
    "        result = soup.find_all(\"div\", {\"class\": \"gsc-result-info\"})\n",
    "\n",
    "        # get the number\n",
    "        num = result[0].string.split(' ')[1].replace(',', '')\n",
    "        nums.append(num)\n",
    "        \n",
    "        # expand the dropdown menu\n",
    "        buttons = driver.find_elements(by=By.CLASS_NAME, value=\"gsc-selected-option-container\")\n",
    "        buttons[0].click()\n",
    "        \n",
    "        # change back to relevance\n",
    "        buttons =  driver.find_elements(by=By.CLASS_NAME, value=\"gsc-option-menu-item\")\n",
    "        buttons[0].click()\n",
    "        sleep(uniform(a,b))\n",
    "        \n",
    "    end = time()\n",
    "        \n",
    "    print(keyword, min(nums), f\"({end-start:.2f} seconds)\")\n",
    "\n",
    "# quit the driver\n",
    "driver.quit()"
   ]
  },
  {
   "cell_type": "code",
   "execution_count": null,
   "id": "074ecdf0-9a38-42a0-bd46-733d2034637a",
   "metadata": {},
   "outputs": [],
   "source": []
  }
 ],
 "metadata": {
  "kernelspec": {
   "display_name": "Python 3",
   "language": "python",
   "name": "python3"
  },
  "language_info": {
   "codemirror_mode": {
    "name": "ipython",
    "version": 3
   },
   "file_extension": ".py",
   "mimetype": "text/x-python",
   "name": "python",
   "nbconvert_exporter": "python",
   "pygments_lexer": "ipython3",
   "version": "3.8.8"
  }
 },
 "nbformat": 4,
 "nbformat_minor": 5
}
